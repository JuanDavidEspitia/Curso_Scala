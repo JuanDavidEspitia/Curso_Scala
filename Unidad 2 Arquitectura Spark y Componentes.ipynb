{
 "cells": [
  {
   "cell_type": "markdown",
   "metadata": {},
   "source": [
    "# Arquitectura Spark (Maestro - Esclavo)\n"
   ]
  },
  {
   "cell_type": "markdown",
   "metadata": {},
   "source": [
    "![title](images\\spark-architecture.png)"
   ]
  },
  {
   "cell_type": "markdown",
   "metadata": {},
   "source": [
    "# Arquitectura de la computación en clúster"
   ]
  },
  {
   "cell_type": "markdown",
   "metadata": {},
   "source": [
    "![title](images\\spark-architecture-II.png)"
   ]
  },
  {
   "cell_type": "markdown",
   "metadata": {},
   "source": [
    "# Componentes Spark"
   ]
  },
  {
   "cell_type": "markdown",
   "metadata": {},
   "source": [
    "![title](images\\components-spark.png)"
   ]
  },
  {
   "cell_type": "markdown",
   "metadata": {},
   "source": [
    "Spark Core proporciona las APIs necesarias para la manitpulacion de estas colecciones y permite la ejecucion de modelos, Tareas y Almacenamiento en cache"
   ]
  },
  {
   "cell_type": "markdown",
   "metadata": {},
   "source": [
    "## Spark SQL"
   ]
  },
  {
   "cell_type": "markdown",
   "metadata": {},
   "source": [
    "![title](images\\spark-sql.png)\n",
    "\n",
    "- Es un paquete Spark diseñado para trabajar con datos estructurados qu estan construidos sobre la base de Spark Core\n",
    "- Proporciona un tipo de interfaz SQl para trabajar con datos estructurados\n",
    "- Simplifica el trabajo con conjunto de datos estructurados\n",
    "- Actualmente el flujo de trabajo en Spark esta migrando hacia spark SQL"
   ]
  },
  {
   "cell_type": "markdown",
   "metadata": {},
   "source": [
    "## Spark Streaming"
   ]
  },
  {
   "cell_type": "markdown",
   "metadata": {},
   "source": [
    "![title](images\\spark-streaming.png)\n",
    "\n",
    "- Spark Streaming proporciona una API para la manipulacion de flujos de datos que se ajustan estrechamanete a la API RDD del Spark Core\n",
    "- Permite aplicaciobes interactivas y analiticas de gran alcance tanto en streaming y datos historicos al tiempo de hereda las caracateristicas de facilidad de uso y tolerancia a fallos de spark\n",
    "- Puede integrarse con una amplia variedad de datos como HDFS, Flume, Kafka y Twitter "
   ]
  },
  {
   "cell_type": "markdown",
   "metadata": {},
   "source": [
    "## Spark MLlib"
   ]
  },
  {
   "cell_type": "markdown",
   "metadata": {},
   "source": [
    "![title](images\\spark-mllib.jpg)\n",
    "\n",
    "\n",
    "- Esta pensada para entrenar e implementar modelos de Machine Learning\n",
    "- Construida sobre la base de Spark, MLlib es una libreria escalable de Machine Learning que ofrece tanto algoritmos de alta calidad y velocidad\n",
    "- Es utilizable en Java, Scala, Python como parte de las aplicaciones de Spark\n",
    "- Consiste en algoritmos comunes de aprendizaje y utilidades, incluyendo clasificacion, regresion, clustering(agrupacion), filtrado colaborativo, reduccion de la dimencionalidad, etc."
   ]
  },
  {
   "cell_type": "markdown",
   "metadata": {},
   "source": [
    "## Spark GraphX"
   ]
  },
  {
   "cell_type": "markdown",
   "metadata": {},
   "source": [
    "![title](images\\spark-graphx.jpeg)\n",
    "\n"
   ]
  },
  {
   "cell_type": "code",
   "execution_count": null,
   "metadata": {},
   "outputs": [],
   "source": []
  }
 ],
 "metadata": {
  "kernelspec": {
   "display_name": "spylon-kernel",
   "language": "scala",
   "name": "spylon-kernel"
  },
  "language_info": {
   "codemirror_mode": "text/x-scala",
   "file_extension": ".scala",
   "help_links": [
    {
     "text": "MetaKernel Magics",
     "url": "https://metakernel.readthedocs.io/en/latest/source/README.html"
    }
   ],
   "mimetype": "text/x-scala",
   "name": "scala",
   "pygments_lexer": "scala",
   "version": "0.4.1"
  }
 },
 "nbformat": 4,
 "nbformat_minor": 4
}
