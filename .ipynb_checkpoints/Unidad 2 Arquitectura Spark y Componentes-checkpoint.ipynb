{
 "cells": [
  {
   "cell_type": "markdown",
   "metadata": {},
   "source": [
    "# Arquitectura Spark (Maestro - Esclavo)\n"
   ]
  },
  {
   "cell_type": "markdown",
   "metadata": {},
   "source": [
    "![title](images\\spark-architecture.png)"
   ]
  },
  {
   "cell_type": "markdown",
   "metadata": {},
   "source": [
    "# Arquitectura de la computación en clúster"
   ]
  },
  {
   "cell_type": "markdown",
   "metadata": {},
   "source": [
    "![title](images\\spark-architecture-II.png)"
   ]
  },
  {
   "cell_type": "markdown",
   "metadata": {},
   "source": [
    "# Componentes Spark"
   ]
  },
  {
   "cell_type": "markdown",
   "metadata": {},
   "source": [
    "![title](images\\components-spark.png)"
   ]
  },
  {
   "cell_type": "markdown",
   "metadata": {},
   "source": [
    "Spark Core proporciona las APIs necesarias para la manitpulacion de estas colecciones y permite la ejecucion de modelos, Tareas y Almacenamiento en cache"
   ]
  },
  {
   "cell_type": "markdown",
   "metadata": {},
   "source": [
    "## Spark SQL"
   ]
  },
  {
   "cell_type": "markdown",
   "metadata": {},
   "source": [
    "![title](images\\spark-sql.png)\n",
    "\n",
    "- Es un paquete Spark diseñado para trabajar con datos estructurados qu estan construidos sobre la base de Spark Core\n",
    "- Proporciona un tipo de interfaz SQl para trabajar con datos estructurados\n",
    "- Simplifica el trabajo con conjunto de datos estructurados\n",
    "- Actualmente el flujo de trabajo en Spark esta migrando hacia spark SQL"
   ]
  },
  {
   "cell_type": "markdown",
   "metadata": {},
   "source": [
    "## Spark Streaming"
   ]
  },
  {
   "cell_type": "markdown",
   "metadata": {},
   "source": [
    "![title](images\\spark-streaming.png)\n",
    "\n",
    "- Spark Streaming proporciona una API para la manipulacion de flujos de datos que se ajustan estrechamanete a la API RDD del Spark Core\n",
    "- Permite aplicaciobes interactivas y analiticas de gran alcance tanto en streaming y datos historicos al tiempo de hereda las caracateristicas de facilidad de uso y tolerancia a fallos de spark\n",
    "- Puede integrarse con una amplia variedad de datos como HDFS, Flume, Kafka y Twitter "
   ]
  },
  {
   "cell_type": "markdown",
   "metadata": {},
   "source": [
    "## Spark MLlib"
   ]
  },
  {
   "cell_type": "markdown",
   "metadata": {},
   "source": [
    "![title](images\\spark-mllib.jpg)\n",
    "\n",
    "\n",
    "- Esta pensada para entrenar e implementar modelos de Machine Learning\n",
    "- Construida sobre la base de Spark, MLlib es una libreria escalable de Machine Learning que ofrece tanto algoritmos de alta calidad y velocidad\n",
    "- Es utilizable en Java, Scala, Python como parte de las aplicaciones de Spark\n",
    "- Consiste en algoritmos comunes de aprendizaje y utilidades, incluyendo clasificacion, regresion, clustering(agrupacion), filtrado colaborativo, reduccion de la dimencionalidad, etc."
   ]
  },
  {
   "cell_type": "markdown",
   "metadata": {},
   "source": [
    "## Spark GraphX"
   ]
  },
  {
   "cell_type": "markdown",
   "metadata": {},
   "source": [
    "![title](images\\spark-graphx.jpeg)\n",
    "\n",
    "- Es un motor de calculo grafico construido en spark que permite a los usuarios crear, transformar y razonar de forma interactiva sobre datos estructurados graficos a escala.\n",
    "- Extiende el RDD de Spark mediante introduccion de una nueva abstraccion grafica, un multigrafico dirigido con propiedades unidas a cada vertice y borde \n"
   ]
  },
  {
   "cell_type": "markdown",
   "metadata": {},
   "source": [
    "## ¿ Quien usa Apache Spark y como?"
   ]
  },
  {
   "cell_type": "markdown",
   "metadata": {},
   "source": [
    "#### 1. Cientifico de datos: \n",
    "- Se enecargan de identificar patrones, tendencias, riesgos y oportunidades en los datos \n",
    "- Analizar datos con el objetivo de responder una pregunta o descubrir informacion\n",
    "- Analisis Ad hoc\n",
    "- Spark Ayuda a los DS a respaldar todo el flujo de trabajo de la ciencia de datos, desde el acceso a los datos, analisis ad-hoc y la integracion a machine learning y virtualizacion \n",
    "\n",
    "#### 2. Ingeniero de aplicaciones de procesamiento de datos \n",
    "- Construyen aplicaciones que aprovechan los analisis avanzados en asociacion con los cientificos de datos\n",
    "- Cada vez mas aplicaciones estan migrando hacia spark, Incluyecndo las aplicaciones con gran demanda computacional y aplicaciones que requieren entrada de flujo de datos tales como sensores o datos sociales\n",
    "- Spark proporciona una manera facil de paralelizar estas aplicaciones entre clusters y oculta la complejidad de la programacion de sistemas distribuidos, las comunicaciones en red y la tolerancia a fallos."
   ]
  },
  {
   "cell_type": "code",
   "execution_count": null,
   "metadata": {},
   "outputs": [],
   "source": []
  }
 ],
 "metadata": {
  "kernelspec": {
   "display_name": "spylon-kernel",
   "language": "scala",
   "name": "spylon-kernel"
  },
  "language_info": {
   "codemirror_mode": "text/x-scala",
   "file_extension": ".scala",
   "help_links": [
    {
     "text": "MetaKernel Magics",
     "url": "https://metakernel.readthedocs.io/en/latest/source/README.html"
    }
   ],
   "mimetype": "text/x-scala",
   "name": "scala",
   "pygments_lexer": "scala",
   "version": "0.4.1"
  }
 },
 "nbformat": 4,
 "nbformat_minor": 4
}
