{
 "cells": [
  {
   "cell_type": "markdown",
   "metadata": {},
   "source": [
    "# Datos para analizar del Covid-19 en Colombia\n",
    "\n",
    "Fuente: https://www.datos.gov.co/Salud-y-Protecci-n-Social/Casos-positivos-de-COVID-19-en-Colombia/gt2j-8ykr/data\n"
   ]
  },
  {
   "cell_type": "markdown",
   "metadata": {},
   "source": [
    "#### Cargamos el CSV en un Dataframe"
   ]
  },
  {
   "cell_type": "code",
   "execution_count": null,
   "metadata": {},
   "outputs": [],
   "source": [
    "// CSV a Dataframe\n",
    "val df_covid = spark.read.format(\"csv\").option(\"header\", \"true\").option(\"delimiter\", \",\").load(\"input/datos-covid.csv\")\n",
    "\n",
    "\n",
    "df_covid.show()\n",
    "\n",
    "println(\"--------------- Cantidad de registros ---------------\")\n",
    "println(df_coronavirus.count())\n",
    "//df_coronavirus.select($\"Ciudad de ubicación\").show()\n",
    "\n",
    "//println(\"---------------  Imprimimos 5 Registros  ---------------\")\n",
    "// Imprimimos solo 5  registros\n",
    "//df_covidCol.show(5)\n"
   ]
  },
  {
   "cell_type": "code",
   "execution_count": null,
   "metadata": {},
   "outputs": [],
   "source": [
    "// Imprimimos la estructura del DataFrame\n",
    "df_covidCol.printSchema()"
   ]
  },
  {
   "cell_type": "code",
   "execution_count": null,
   "metadata": {},
   "outputs": [],
   "source": [
    "// Imprimmos los valores la columna seleccionada\n",
    "df_covidCol.select($\"Ciudad de ubicación\").show()"
   ]
  },
  {
   "cell_type": "code",
   "execution_count": null,
   "metadata": {},
   "outputs": [],
   "source": [
    "\n",
    "val diamonds = spark.read.format(\"csv\")\n",
    "  .option(\"header\", \"true\")\n",
    "  .option(\"inferSchema\", \"true\")\n",
    "  .load(\"input/datos-covid.csv\")\n",
    "\n",
    "diamonds.show()\n",
    "\n"
   ]
  },
  {
   "cell_type": "code",
   "execution_count": null,
   "metadata": {},
   "outputs": [],
   "source": []
  }
 ],
 "metadata": {
  "kernelspec": {
   "display_name": "spylon-kernel",
   "language": "scala",
   "name": "spylon-kernel"
  },
  "language_info": {
   "codemirror_mode": "text/x-scala",
   "file_extension": ".scala",
   "help_links": [
    {
     "text": "MetaKernel Magics",
     "url": "https://metakernel.readthedocs.io/en/latest/source/README.html"
    }
   ],
   "mimetype": "text/x-scala",
   "name": "scala",
   "pygments_lexer": "scala",
   "version": "0.4.1"
  }
 },
 "nbformat": 4,
 "nbformat_minor": 4
}
